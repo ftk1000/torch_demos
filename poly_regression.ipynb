{
  "nbformat": 4,
  "nbformat_minor": 0,
  "metadata": {
    "colab": {
      "name": "poly_regression.ipynb",
      "provenance": [],
      "authorship_tag": "ABX9TyOvtU7wngmaQpa+1bi1QhQ/",
      "include_colab_link": true
    },
    "kernelspec": {
      "name": "python3",
      "display_name": "Python 3"
    }
  },
  "cells": [
    {
      "cell_type": "markdown",
      "metadata": {
        "id": "view-in-github",
        "colab_type": "text"
      },
      "source": [
        "<a href=\"https://colab.research.google.com/github/ftk1000/torch_demos/blob/master/poly_regression.ipynb\" target=\"_parent\"><img src=\"https://colab.research.google.com/assets/colab-badge.svg\" alt=\"Open In Colab\"/></a>"
      ]
    },
    {
      "cell_type": "code",
      "metadata": {
        "id": "UWZ_Xw1BKRfi",
        "colab_type": "code",
        "colab": {}
      },
      "source": [
        "# https://github.com/pytorch/examples/blob/master/regression/main.py\n",
        "\n",
        "from __future__ import print_function\n",
        "from itertools import count\n",
        "\n",
        "import torch\n",
        "import torch.nn.functional as F\n",
        "\n",
        "POLY_DEGREE = 4\n",
        "W_target = torch.randn(POLY_DEGREE, 1) * 5\n",
        "b_target = torch.randn(1) * 5\n"
      ],
      "execution_count": 1,
      "outputs": []
    },
    {
      "cell_type": "code",
      "metadata": {
        "id": "uNB90a5PL5JA",
        "colab_type": "code",
        "colab": {}
      },
      "source": [
        "def make_features(x):\n",
        "    \"\"\"Builds features i.e. a matrix with columns [x, x^2, x^3, x^4].\"\"\"\n",
        "    x = x.unsqueeze(1)\n",
        "    return torch.cat([x ** i for i in range(1, POLY_DEGREE+1)], 1)\n",
        "\n",
        "\n",
        "def f(x):\n",
        "    \"\"\"Approximated function.\"\"\"\n",
        "    return x.mm(W_target) + b_target.item()\n",
        "\n",
        "\n",
        "def poly_desc(W, b):\n",
        "    \"\"\"Creates a string description of a polynomial.\"\"\"\n",
        "    result = 'y = '\n",
        "    for i, w in enumerate(W):\n",
        "        result += '{:+.2f} x^{} '.format(w, i + 1)\n",
        "    result += '{:+.2f}'.format(b[0])\n",
        "    return result\n",
        "\n",
        "\n",
        "def get_batch(batch_size=32):\n",
        "    \"\"\"Builds a batch i.e. (x, f(x)) pair.\"\"\"\n",
        "    random = torch.randn(batch_size)\n",
        "    x = make_features(random)\n",
        "    y = f(x)\n",
        "    return x, y\n"
      ],
      "execution_count": 2,
      "outputs": []
    },
    {
      "cell_type": "code",
      "metadata": {
        "id": "90eRzhq1KNfs",
        "colab_type": "code",
        "colab": {
          "base_uri": "https://localhost:8080/",
          "height": 68
        },
        "outputId": "8de36ee4-79ab-40a0-b3e7-c5c15de216bc"
      },
      "source": [
        "# Define model\n",
        "fc = torch.nn.Linear(W_target.size(0), 1)\n",
        "\n",
        "for batch_idx in count(1):\n",
        "    # Get data\n",
        "    batch_x, batch_y = get_batch()\n",
        "\n",
        "    # Reset gradients\n",
        "    fc.zero_grad()\n",
        "\n",
        "    # Forward pass\n",
        "    output = F.smooth_l1_loss(fc(batch_x), batch_y)\n",
        "    loss = output.item()\n",
        "\n",
        "    # Backward pass\n",
        "    output.backward()\n",
        "\n",
        "    # Apply gradients\n",
        "    for param in fc.parameters():\n",
        "        param.data.add_(-0.1 * param.grad)\n",
        "\n",
        "    # Stop criterion\n",
        "    if loss < 1e-3:\n",
        "        break\n",
        "\n",
        "print('Loss: {:.6f} after {} batches'.format(loss, batch_idx))\n",
        "print('==> Learned function:\\t' + poly_desc(fc.weight.view(-1), fc.bias))\n",
        "print('==> Actual function:\\t' + poly_desc(W_target.view(-1), b_target))"
      ],
      "execution_count": 3,
      "outputs": [
        {
          "output_type": "stream",
          "text": [
            "Loss: 0.000997 after 280 batches\n",
            "==> Learned function:\ty = -4.02 x^1 +1.11 x^2 -2.39 x^3 -2.86 x^4 -0.16\n",
            "==> Actual function:\ty = -4.09 x^1 +1.17 x^2 -2.37 x^3 -2.87 x^4 -0.18\n"
          ],
          "name": "stdout"
        }
      ]
    },
    {
      "cell_type": "code",
      "metadata": {
        "id": "JNvZqHWsMBZX",
        "colab_type": "code",
        "colab": {
          "base_uri": "https://localhost:8080/",
          "height": 34
        },
        "outputId": "8fa1f71b-eb2d-4c63-a023-de5922aee5c3"
      },
      "source": [
        "# for i in count(1):\n",
        "#   print(i)\n",
        "#   if (i>2):\n",
        "#     break\n",
        "\n",
        "# torch.randn(32)[:5]\n",
        "\n",
        "batch_x, batch_y = get_batch()\n",
        "print(batch_x.shape, batch_y.shape)\n",
        "\n"
      ],
      "execution_count": 13,
      "outputs": [
        {
          "output_type": "stream",
          "text": [
            "torch.Size([32, 4]) torch.Size([32, 1])\n"
          ],
          "name": "stdout"
        }
      ]
    },
    {
      "cell_type": "code",
      "metadata": {
        "id": "XjUarTtOMNxJ",
        "colab_type": "code",
        "colab": {
          "base_uri": "https://localhost:8080/",
          "height": 68
        },
        "outputId": "f4d26dd1-2f18-4084-d619-dccc82706532"
      },
      "source": [
        "x=batch_x.unsqueeze(1)[:2]\n",
        "x"
      ],
      "execution_count": 18,
      "outputs": [
        {
          "output_type": "execute_result",
          "data": {
            "text/plain": [
              "tensor([[[ 0.2219,  0.0492,  0.0109,  0.0024]],\n",
              "\n",
              "        [[-1.0152,  1.0307, -1.0464,  1.0623]]])"
            ]
          },
          "metadata": {
            "tags": []
          },
          "execution_count": 18
        }
      ]
    },
    {
      "cell_type": "code",
      "metadata": {
        "id": "Aw7bHwcnOEA5",
        "colab_type": "code",
        "colab": {
          "base_uri": "https://localhost:8080/",
          "height": 221
        },
        "outputId": "abf681ae-b2bd-4fc2-843b-df35c0af46c7"
      },
      "source": [
        "[x ** i for i in range(1, POLY_DEGREE+1)]"
      ],
      "execution_count": 19,
      "outputs": [
        {
          "output_type": "execute_result",
          "data": {
            "text/plain": [
              "[tensor([[[ 0.2219,  0.0492,  0.0109,  0.0024]],\n",
              " \n",
              "         [[-1.0152,  1.0307, -1.0464,  1.0623]]]),\n",
              " tensor([[[4.9236e-02, 2.4242e-03, 1.1936e-04, 5.8767e-06]],\n",
              " \n",
              "         [[1.0307e+00, 1.0623e+00, 1.0949e+00, 1.1285e+00]]]),\n",
              " tensor([[[ 1.0925e-02,  1.1936e-04,  1.3040e-06,  1.4246e-08]],\n",
              " \n",
              "         [[-1.0464e+00,  1.0949e+00, -1.1456e+00,  1.1988e+00]]]),\n",
              " tensor([[[2.4242e-03, 5.8767e-06, 1.4246e-08, 3.4535e-11]],\n",
              " \n",
              "         [[1.0623e+00, 1.1285e+00, 1.1988e+00, 1.2734e+00]]])]"
            ]
          },
          "metadata": {
            "tags": []
          },
          "execution_count": 19
        }
      ]
    },
    {
      "cell_type": "code",
      "metadata": {
        "id": "Z-EzAHQ-O5r-",
        "colab_type": "code",
        "colab": {
          "base_uri": "https://localhost:8080/",
          "height": 68
        },
        "outputId": "26171e4a-c947-4285-cd0d-88df2fcb21b7"
      },
      "source": [
        "batch_y[:3]"
      ],
      "execution_count": 24,
      "outputs": [
        {
          "output_type": "execute_result",
          "data": {
            "text/plain": [
              "tensor([[-1.0665],\n",
              "        [ 4.6072],\n",
              "        [-8.5152]])"
            ]
          },
          "metadata": {
            "tags": []
          },
          "execution_count": 24
        }
      ]
    },
    {
      "cell_type": "code",
      "metadata": {
        "id": "pw3YOnRgOjuL",
        "colab_type": "code",
        "colab": {}
      },
      "source": [
        "# batch_y.mm(W_target) + b_target.item()\n",
        "# batch_y.mm(W_target) "
      ],
      "execution_count": 23,
      "outputs": []
    },
    {
      "cell_type": "markdown",
      "metadata": {
        "id": "ODm2xVGyNr-M",
        "colab_type": "text"
      },
      "source": [
        ""
      ]
    }
  ]
}