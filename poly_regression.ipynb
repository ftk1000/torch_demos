{
  "nbformat": 4,
  "nbformat_minor": 0,
  "metadata": {
    "colab": {
      "name": "poly_regression.ipynb",
      "provenance": [],
      "collapsed_sections": [],
      "authorship_tag": "ABX9TyORXut36ZhHXA9aOH7ne5or",
      "include_colab_link": true
    },
    "kernelspec": {
      "name": "python3",
      "display_name": "Python 3"
    }
  },
  "cells": [
    {
      "cell_type": "markdown",
      "metadata": {
        "id": "view-in-github",
        "colab_type": "text"
      },
      "source": [
        "<a href=\"https://colab.research.google.com/github/ftk1000/torch_demos/blob/master/poly_regression.ipynb\" target=\"_parent\"><img src=\"https://colab.research.google.com/assets/colab-badge.svg\" alt=\"Open In Colab\"/></a>"
      ]
    },
    {
      "cell_type": "code",
      "metadata": {
        "id": "UWZ_Xw1BKRfi",
        "colab_type": "code",
        "colab": {}
      },
      "source": [
        "# https://github.com/pytorch/examples/blob/master/regression/main.py\n",
        "\n",
        "from __future__ import print_function\n",
        "from itertools import count\n",
        "\n",
        "import torch\n",
        "import torch.nn.functional as F\n",
        "\n",
        "POLY_DEGREE = 4\n",
        "W_target = torch.randn(POLY_DEGREE, 1) * 5\n",
        "b_target = torch.randn(1) * 5\n"
      ],
      "execution_count": 1,
      "outputs": []
    },
    {
      "cell_type": "code",
      "metadata": {
        "id": "uNB90a5PL5JA",
        "colab_type": "code",
        "colab": {}
      },
      "source": [
        "def make_features(x):\n",
        "    \"\"\"Builds features i.e. a matrix with columns [x, x^2, x^3, x^4].\"\"\"\n",
        "    x = x.unsqueeze(1)\n",
        "    return torch.cat([x ** i for i in range(1, POLY_DEGREE+1)], 1)\n",
        "\n",
        "\n",
        "def f(x):\n",
        "    \"\"\"Approximated function.\"\"\"\n",
        "    return x.mm(W_target) + b_target.item()\n",
        "\n",
        "\n",
        "def poly_desc(W, b):\n",
        "    \"\"\"Creates a string description of a polynomial.\"\"\"\n",
        "    result = 'y = '\n",
        "    for i, w in enumerate(W):\n",
        "        result += '{:+.2f} x^{} '.format(w, i + 1)\n",
        "    result += '{:+.2f}'.format(b[0])\n",
        "    return result\n",
        "\n",
        "\n",
        "def get_batch(batch_size=32):\n",
        "    \"\"\"Builds a batch i.e. (x, f(x)) pair.\"\"\"\n",
        "    random = torch.randn(batch_size)\n",
        "    x = make_features(random)\n",
        "    y = f(x)\n",
        "    return x, y\n"
      ],
      "execution_count": 2,
      "outputs": []
    },
    {
      "cell_type": "code",
      "metadata": {
        "id": "90eRzhq1KNfs",
        "colab_type": "code",
        "colab": {
          "base_uri": "https://localhost:8080/",
          "height": 68
        },
        "outputId": "8de36ee4-79ab-40a0-b3e7-c5c15de216bc"
      },
      "source": [
        "# Define model\n",
        "fc = torch.nn.Linear(W_target.size(0), 1)\n",
        "\n",
        "for batch_idx in count(1):\n",
        "    # Get data\n",
        "    batch_x, batch_y = get_batch()\n",
        "\n",
        "    # Reset gradients\n",
        "    fc.zero_grad()\n",
        "\n",
        "    # Forward pass\n",
        "    output = F.smooth_l1_loss(fc(batch_x), batch_y)\n",
        "    loss = output.item()\n",
        "\n",
        "    # Backward pass\n",
        "    output.backward()\n",
        "\n",
        "    # Apply gradients\n",
        "    for param in fc.parameters():\n",
        "        param.data.add_(-0.1 * param.grad)\n",
        "\n",
        "    # Stop criterion\n",
        "    if loss < 1e-3:\n",
        "        break\n",
        "\n",
        "print('Loss: {:.6f} after {} batches'.format(loss, batch_idx))\n",
        "print('==> Learned function:\\t' + poly_desc(fc.weight.view(-1), fc.bias))\n",
        "print('==> Actual function:\\t' + poly_desc(W_target.view(-1), b_target))"
      ],
      "execution_count": 3,
      "outputs": [
        {
          "output_type": "stream",
          "text": [
            "Loss: 0.000997 after 280 batches\n",
            "==> Learned function:\ty = -4.02 x^1 +1.11 x^2 -2.39 x^3 -2.86 x^4 -0.16\n",
            "==> Actual function:\ty = -4.09 x^1 +1.17 x^2 -2.37 x^3 -2.87 x^4 -0.18\n"
          ],
          "name": "stdout"
        }
      ]
    },
    {
      "cell_type": "code",
      "metadata": {
        "id": "G7Uo-Zk_HwWH",
        "colab_type": "code",
        "colab": {}
      },
      "source": [
        ""
      ],
      "execution_count": null,
      "outputs": []
    },
    {
      "cell_type": "code",
      "metadata": {
        "id": "yEu96Q-6Hv31",
        "colab_type": "code",
        "colab": {}
      },
      "source": [
        ""
      ],
      "execution_count": 14,
      "outputs": []
    },
    {
      "cell_type": "code",
      "metadata": {
        "id": "NvOtKOwNFdKF",
        "colab_type": "code",
        "colab": {}
      },
      "source": [
        ""
      ],
      "execution_count": 60,
      "outputs": []
    },
    {
      "cell_type": "markdown",
      "metadata": {
        "id": "2gmxIzTNMqm1",
        "colab_type": "text"
      },
      "source": [
        "# ZOOM IN"
      ]
    },
    {
      "cell_type": "code",
      "metadata": {
        "id": "06p95qQBHRal",
        "colab_type": "code",
        "colab": {
          "base_uri": "https://localhost:8080/",
          "height": 119
        },
        "outputId": "8092b990-778a-4c42-e6e1-5ff5492c25ab"
      },
      "source": [
        "import torch\n",
        "import torch.nn.functional as F\n",
        "\n",
        "POLY_DEGREE = 4\n",
        "W_target = torch.randn(POLY_DEGREE, 1) * 5\n",
        "b_target = torch.randn(1) * 5\n",
        "print(W_target)\n",
        "print(b_target)\n",
        "\n",
        "# Define model\n",
        "fc = torch.nn.Linear(W_target.size(0), 1)\n",
        "fc"
      ],
      "execution_count": 61,
      "outputs": [
        {
          "output_type": "stream",
          "text": [
            "tensor([[ 0.4775],\n",
            "        [ 1.2207],\n",
            "        [-5.5769],\n",
            "        [-6.5835]])\n",
            "tensor([-1.7811])\n"
          ],
          "name": "stdout"
        },
        {
          "output_type": "execute_result",
          "data": {
            "text/plain": [
              "Linear(in_features=4, out_features=1, bias=True)"
            ]
          },
          "metadata": {
            "tags": []
          },
          "execution_count": 61
        }
      ]
    },
    {
      "cell_type": "markdown",
      "metadata": {
        "id": "RZYgZA8iIWuG",
        "colab_type": "text"
      },
      "source": [
        "# GENERATE DATA"
      ]
    },
    {
      "cell_type": "code",
      "metadata": {
        "id": "2u7Ry5Z6Fd8i",
        "colab_type": "code",
        "colab": {
          "base_uri": "https://localhost:8080/",
          "height": 85
        },
        "outputId": "a85e0ab7-d0d6-4dd8-ea2c-5ecf47bfa30f"
      },
      "source": [
        "##### get batch\n",
        "\"\"\"Builds a batch i.e. (x, f(x)) pair.\"\"\"\n",
        "batch_size=32\n",
        "random = torch.randn(batch_size)\n",
        "### x = make_features(random)\n",
        "\"\"\"Builds features i.e. a matrix with columns [x, x^2, x^3, x^4].\"\"\"\n",
        "x = random.unsqueeze(1)\n",
        "batch_x = torch.cat([x ** i for i in range(1, POLY_DEGREE+1)], 1)\n",
        "# return torch.cat([x ** i for i in range(1, POLY_DEGREE+1)], 1)\n",
        "\n",
        "batch_y = batch_x.mm(W_target) + b_target.item()\n",
        "# return x, y\n",
        "\n",
        "print(batch_x[:2])\n",
        "print(batch_y[:2])"
      ],
      "execution_count": 56,
      "outputs": [
        {
          "output_type": "stream",
          "text": [
            "tensor([[1.6894e-01, 2.8539e-02, 4.8213e-03, 8.1449e-04],\n",
            "        [4.9287e-02, 2.4292e-03, 1.1973e-04, 5.9009e-06]])\n",
            "tensor([[2.8941],\n",
            "        [2.1168]])\n"
          ],
          "name": "stdout"
        }
      ]
    },
    {
      "cell_type": "markdown",
      "metadata": {
        "id": "31Gl7WfGJ3VR",
        "colab_type": "text"
      },
      "source": [
        "# TARINING STEP"
      ]
    },
    {
      "cell_type": "code",
      "metadata": {
        "id": "JhCvF9Y4FeHM",
        "colab_type": "code",
        "colab": {
          "base_uri": "https://localhost:8080/",
          "height": 51
        },
        "outputId": "ef7ada1b-7fe4-4674-ca97-29c308a01ccf"
      },
      "source": [
        "# Reset gradients\n",
        "fc.zero_grad()\n",
        "\n",
        "# Forward pass\n",
        "output = F.smooth_l1_loss(fc(batch_x), batch_y)\n",
        "print(output)\n",
        "loss = output.item()\n",
        "print(loss)\n",
        "\n",
        "# Backward pass\n",
        "output.backward()\n",
        "\n",
        "# Apply gradients\n",
        "for param in fc.parameters():\n",
        "    param.data.add_(-0.1 * param.grad)\n"
      ],
      "execution_count": 55,
      "outputs": [
        {
          "output_type": "stream",
          "text": [
            "tensor(2.5083, grad_fn=<SmoothL1LossBackward>)\n",
            "2.508268356323242\n"
          ],
          "name": "stdout"
        }
      ]
    },
    {
      "cell_type": "markdown",
      "metadata": {
        "id": "rna9bZGbM0OU",
        "colab_type": "text"
      },
      "source": [
        "# TRAIN LOOP"
      ]
    },
    {
      "cell_type": "code",
      "metadata": {
        "id": "VmhyICftFeRl",
        "colab_type": "code",
        "colab": {}
      },
      "source": [
        "losses=[]\n",
        "Nsteps = 1000\n",
        "for i in range(Nsteps):\n",
        "  # Reset gradients\n",
        "  fc.zero_grad()\n",
        "\n",
        "  # Forward pass\n",
        "  output = F.smooth_l1_loss(fc(batch_x), batch_y)\n",
        "  # print(output)\n",
        "  loss = output.item()\n",
        "  # print(loss)\n",
        "\n",
        "  # Backward pass\n",
        "  output.backward()\n",
        "\n",
        "  # Apply gradients\n",
        "  for param in fc.parameters():\n",
        "      param.data.add_(-0.1 * param.grad)\n",
        "  losses.append(loss)\n",
        "  # print(fc.parameters)"
      ],
      "execution_count": 62,
      "outputs": []
    },
    {
      "cell_type": "code",
      "metadata": {
        "id": "7Nn0lHxRKiQc",
        "colab_type": "code",
        "colab": {
          "base_uri": "https://localhost:8080/",
          "height": 282
        },
        "outputId": "62556f33-59fa-4fbc-c2c0-f99ad2dd7797"
      },
      "source": [
        "import matplotlib.pyplot as plt\n",
        "steps = range(len(losses))\n",
        "plt.scatter(steps, losses)"
      ],
      "execution_count": 63,
      "outputs": [
        {
          "output_type": "execute_result",
          "data": {
            "text/plain": [
              "<matplotlib.collections.PathCollection at 0x7fe3f8784a20>"
            ]
          },
          "metadata": {
            "tags": []
          },
          "execution_count": 63
        },
        {
          "output_type": "display_data",
          "data": {
            "image/png": "[encoded data removed]",
            "text/plain": [
              "<Figure size 432x288 with 1 Axes>"
            ]
          },
          "metadata": {
            "tags": [],
            "needs_background": "light"
          }
        }
      ]
    },
    {
      "cell_type": "code",
      "metadata": {
        "id": "PvkfsVc4KicC",
        "colab_type": "code",
        "colab": {
          "base_uri": "https://localhost:8080/",
          "height": 187
        },
        "outputId": "f118e251-713b-47ca-8c02-1d92255b3227"
      },
      "source": [
        "losses[-10:]"
      ],
      "execution_count": 65,
      "outputs": [
        {
          "output_type": "execute_result",
          "data": {
            "text/plain": [
              "[0.2815361022949219,\n",
              " 0.11445458978414536,\n",
              " 0.2813122272491455,\n",
              " 0.11467129737138748,\n",
              " 0.28108853101730347,\n",
              " 0.11488839983940125,\n",
              " 0.2808656692504883,\n",
              " 0.11510414630174637,\n",
              " 0.2806429862976074,\n",
              " 0.11532025039196014]"
            ]
          },
          "metadata": {
            "tags": []
          },
          "execution_count": 65
        }
      ]
    },
    {
      "cell_type": "code",
      "metadata": {
        "id": "Tjhd3NXqKimt",
        "colab_type": "code",
        "colab": {}
      },
      "source": [
        ""
      ],
      "execution_count": null,
      "outputs": []
    },
    {
      "cell_type": "code",
      "metadata": {
        "id": "-wqAcSjJKiwJ",
        "colab_type": "code",
        "colab": {}
      },
      "source": [
        ""
      ],
      "execution_count": null,
      "outputs": []
    },
    {
      "cell_type": "code",
      "metadata": {
        "id": "JNvZqHWsMBZX",
        "colab_type": "code",
        "colab": {
          "base_uri": "https://localhost:8080/",
          "height": 34
        },
        "outputId": "8fa1f71b-eb2d-4c63-a023-de5922aee5c3"
      },
      "source": [
        "# for i in count(1):\n",
        "#   print(i)\n",
        "#   if (i>2):\n",
        "#     break\n",
        "\n",
        "# torch.randn(32)[:5]\n",
        "\n",
        "batch_x, batch_y = get_batch()\n",
        "print(batch_x.shape, batch_y.shape)\n",
        "\n"
      ],
      "execution_count": 13,
      "outputs": [
        {
          "output_type": "stream",
          "text": [
            "torch.Size([32, 4]) torch.Size([32, 1])\n"
          ],
          "name": "stdout"
        }
      ]
    },
    {
      "cell_type": "code",
      "metadata": {
        "id": "XjUarTtOMNxJ",
        "colab_type": "code",
        "colab": {
          "base_uri": "https://localhost:8080/",
          "height": 68
        },
        "outputId": "f4d26dd1-2f18-4084-d619-dccc82706532"
      },
      "source": [
        "x=batch_x.unsqueeze(1)[:2]\n",
        "x"
      ],
      "execution_count": 18,
      "outputs": [
        {
          "output_type": "execute_result",
          "data": {
            "text/plain": [
              "tensor([[[ 0.2219,  0.0492,  0.0109,  0.0024]],\n",
              "\n",
              "        [[-1.0152,  1.0307, -1.0464,  1.0623]]])"
            ]
          },
          "metadata": {
            "tags": []
          },
          "execution_count": 18
        }
      ]
    },
    {
      "cell_type": "code",
      "metadata": {
        "id": "Aw7bHwcnOEA5",
        "colab_type": "code",
        "colab": {
          "base_uri": "https://localhost:8080/",
          "height": 221
        },
        "outputId": "abf681ae-b2bd-4fc2-843b-df35c0af46c7"
      },
      "source": [
        "[x ** i for i in range(1, POLY_DEGREE+1)]"
      ],
      "execution_count": 19,
      "outputs": [
        {
          "output_type": "execute_result",
          "data": {
            "text/plain": [
              "[tensor([[[ 0.2219,  0.0492,  0.0109,  0.0024]],\n",
              " \n",
              "         [[-1.0152,  1.0307, -1.0464,  1.0623]]]),\n",
              " tensor([[[4.9236e-02, 2.4242e-03, 1.1936e-04, 5.8767e-06]],\n",
              " \n",
              "         [[1.0307e+00, 1.0623e+00, 1.0949e+00, 1.1285e+00]]]),\n",
              " tensor([[[ 1.0925e-02,  1.1936e-04,  1.3040e-06,  1.4246e-08]],\n",
              " \n",
              "         [[-1.0464e+00,  1.0949e+00, -1.1456e+00,  1.1988e+00]]]),\n",
              " tensor([[[2.4242e-03, 5.8767e-06, 1.4246e-08, 3.4535e-11]],\n",
              " \n",
              "         [[1.0623e+00, 1.1285e+00, 1.1988e+00, 1.2734e+00]]])]"
            ]
          },
          "metadata": {
            "tags": []
          },
          "execution_count": 19
        }
      ]
    },
    {
      "cell_type": "code",
      "metadata": {
        "id": "Z-EzAHQ-O5r-",
        "colab_type": "code",
        "colab": {
          "base_uri": "https://localhost:8080/",
          "height": 68
        },
        "outputId": "26171e4a-c947-4285-cd0d-88df2fcb21b7"
      },
      "source": [
        "batch_y[:3]"
      ],
      "execution_count": 24,
      "outputs": [
        {
          "output_type": "execute_result",
          "data": {
            "text/plain": [
              "tensor([[-1.0665],\n",
              "        [ 4.6072],\n",
              "        [-8.5152]])"
            ]
          },
          "metadata": {
            "tags": []
          },
          "execution_count": 24
        }
      ]
    },
    {
      "cell_type": "code",
      "metadata": {
        "id": "pw3YOnRgOjuL",
        "colab_type": "code",
        "colab": {}
      },
      "source": [
        "# batch_y.mm(W_target) + b_target.item()\n",
        "# batch_y.mm(W_target) "
      ],
      "execution_count": 23,
      "outputs": []
    },
    {
      "cell_type": "markdown",
      "metadata": {
        "id": "ODm2xVGyNr-M",
        "colab_type": "text"
      },
      "source": [
        ""
      ]
    }
  ]
}