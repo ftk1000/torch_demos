{
  "nbformat": 4,
  "nbformat_minor": 0,
  "metadata": {
    "colab": {
      "name": "poly_regression_v2.ipynb",
      "provenance": [],
      "collapsed_sections": [],
      "authorship_tag": "ABX9TyOJkTOKlE7XF6p2BQ2SeQtU",
      "include_colab_link": true
    },
    "kernelspec": {
      "name": "python3",
      "display_name": "Python 3"
    }
  },
  "cells": [
    {
      "cell_type": "markdown",
      "metadata": {
        "id": "view-in-github",
        "colab_type": "text"
      },
      "source": [
        "<a href=\"https://colab.research.google.com/github/ftk1000/torch_demos/blob/master/poly_regression_v2.ipynb\" target=\"_parent\"><img src=\"https://colab.research.google.com/assets/colab-badge.svg\" alt=\"Open In Colab\"/></a>"
      ]
    },
    {
      "cell_type": "code",
      "metadata": {
        "id": "pNZimvZnOEcQ",
        "colab_type": "code",
        "colab": {}
      },
      "source": [
        "# poly_regression_v2.ipynb\n",
        "# https://github.com/ftk1000/torch_demos/blob/master/poly_regression.ipynb"
      ],
      "execution_count": null,
      "outputs": []
    },
    {
      "cell_type": "code",
      "metadata": {
        "id": "YSiUaDylOSjF",
        "colab_type": "code",
        "colab": {
          "base_uri": "https://localhost:8080/",
          "height": 119
        },
        "outputId": "19115b45-acae-4b84-a89b-c1408cf294da"
      },
      "source": [
        "import torch\n",
        "import torch.nn.functional as F\n",
        "\n",
        "POLY_DEGREE = 4\n",
        "W_target = torch.randn(POLY_DEGREE, 1) * 5\n",
        "b_target = torch.randn(1) * 5\n",
        "print(W_target)\n",
        "print(b_target)\n",
        "\n",
        "# Define model\n",
        "fc = torch.nn.Linear(W_target.size(0), 1)\n",
        "fc"
      ],
      "execution_count": 1,
      "outputs": [
        {
          "output_type": "stream",
          "text": [
            "tensor([[-0.1159],\n",
            "        [ 3.6515],\n",
            "        [ 1.5590],\n",
            "        [ 2.7720]])\n",
            "tensor([6.5148])\n"
          ],
          "name": "stdout"
        },
        {
          "output_type": "execute_result",
          "data": {
            "text/plain": [
              "Linear(in_features=4, out_features=1, bias=True)"
            ]
          },
          "metadata": {
            "tags": []
          },
          "execution_count": 1
        }
      ]
    },
    {
      "cell_type": "code",
      "metadata": {
        "id": "84k98GOWOS4i",
        "colab_type": "code",
        "colab": {
          "base_uri": "https://localhost:8080/",
          "height": 85
        },
        "outputId": "2ea226bc-bc7d-4b21-f43f-dd4b3436d7ab"
      },
      "source": [
        "# GENERATE DATA\n",
        "##### get batch\n",
        "\"\"\"Builds a batch i.e. (x, f(x)) pair.\"\"\"\n",
        "batch_size=32\n",
        "random = torch.randn(batch_size)\n",
        "### x = make_features(random)\n",
        "\"\"\"Builds features i.e. a matrix with columns [x, x^2, x^3, x^4].\"\"\"\n",
        "x = random.unsqueeze(1)\n",
        "batch_x = torch.cat([x ** i for i in range(1, POLY_DEGREE+1)], 1)\n",
        "# return torch.cat([x ** i for i in range(1, POLY_DEGREE+1)], 1)\n",
        "\n",
        "batch_y = batch_x.mm(W_target) + b_target.item()\n",
        "# return x, y\n",
        "\n",
        "print(batch_x[:2])\n",
        "print(batch_y[:2])"
      ],
      "execution_count": 2,
      "outputs": [
        {
          "output_type": "stream",
          "text": [
            "tensor([[ 1.6257,  2.6428,  4.2963,  6.9843],\n",
            "        [-1.2531,  1.5703, -1.9678,  2.4658]])\n",
            "tensor([[42.0347],\n",
            "        [16.1617]])\n"
          ],
          "name": "stdout"
        }
      ]
    },
    {
      "cell_type": "code",
      "metadata": {
        "id": "KYbRTLlAOTDM",
        "colab_type": "code",
        "colab": {}
      },
      "source": [
        "# TRAIN LOOP\n",
        "losses=[]\n",
        "Nsteps = 1000\n",
        "for i in range(Nsteps):\n",
        "  # Reset gradients\n",
        "  fc.zero_grad()\n",
        "\n",
        "  # Forward pass\n",
        "  output = F.smooth_l1_loss(fc(batch_x), batch_y)\n",
        "  # print(output)\n",
        "  loss = output.item()\n",
        "  # print(loss)\n",
        "\n",
        "  # Backward pass\n",
        "  output.backward()\n",
        "\n",
        "  # Apply gradients\n",
        "  for param in fc.parameters():\n",
        "      param.data.add_(-0.1 * param.grad)\n",
        "  losses.append(loss)\n",
        "  # print(fc.parameters)"
      ],
      "execution_count": 3,
      "outputs": []
    },
    {
      "cell_type": "code",
      "metadata": {
        "id": "bS9c4fIiOTPH",
        "colab_type": "code",
        "colab": {
          "base_uri": "https://localhost:8080/",
          "height": 378
        },
        "outputId": "f946dc12-200b-4146-c709-3f11dfa42400"
      },
      "source": [
        "import matplotlib.pyplot as plt\n",
        "steps = range(len(losses))\n",
        "offset=600\n",
        "plt.scatter(steps[offset:], losses[offset:]  )\n",
        "\n",
        "losses[-6:]"
      ],
      "execution_count": 8,
      "outputs": [
        {
          "output_type": "execute_result",
          "data": {
            "text/plain": [
              "[1.715436326321651e-08,\n",
              " 1.6939910807423075e-08,\n",
              " 1.6768773036801576e-08,\n",
              " 1.6575786077055454e-08,\n",
              " 1.6386220380582017e-08,\n",
              " 1.6206289643605487e-08]"
            ]
          },
          "metadata": {
            "tags": []
          },
          "execution_count": 8
        },
        {
          "output_type": "display_data",
          "data": {
            "image/png": "[encoded data removed]",
            "text/plain": [
              "<Figure size 432x288 with 1 Axes>"
            ]
          },
          "metadata": {
            "tags": [],
            "needs_background": "light"
          }
        }
      ]
    },
    {
      "cell_type": "code",
      "metadata": {
        "id": "H-ZFvJD0PWrt",
        "colab_type": "code",
        "colab": {}
      },
      "source": [
        ""
      ],
      "execution_count": null,
      "outputs": []
    }
  ]
}