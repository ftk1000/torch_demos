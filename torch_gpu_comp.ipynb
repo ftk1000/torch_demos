{
  "nbformat": 4,
  "nbformat_minor": 0,
  "metadata": {
    "colab": {
      "name": "torch_gpu_comp.ipynb",
      "provenance": [],
      "authorship_tag": "ABX9TyN1rWNdVWNTwpCsB8vqqzMA",
      "include_colab_link": true
    },
    "kernelspec": {
      "name": "python3",
      "display_name": "Python 3"
    },
    "accelerator": "GPU"
  },
  "cells": [
    {
      "cell_type": "markdown",
      "metadata": {
        "id": "view-in-github",
        "colab_type": "text"
      },
      "source": [
        "<a href=\"https://colab.research.google.com/github/ftk1000/torch_demos/blob/master/torch_gpu_comp.ipynb\" target=\"_parent\"><img src=\"https://colab.research.google.com/assets/colab-badge.svg\" alt=\"Open In Colab\"/></a>"
      ]
    },
    {
      "cell_type": "markdown",
      "metadata": {
        "id": "UAqLZ3RBzZnF",
        "colab_type": "text"
      },
      "source": [
        "# Compare runtime with GPU and w/o GPU"
      ]
    },
    {
      "cell_type": "code",
      "metadata": {
        "id": "3Jf0mjNhzP3f",
        "colab_type": "code",
        "colab": {
          "base_uri": "https://localhost:8080/",
          "height": 34
        },
        "outputId": "c24a4173-c404-47e9-aba9-2f24140d8047"
      },
      "source": [
        "import torch\n",
        "import time\n",
        "\n",
        "if torch.cuda.is_available():\n",
        "  device = torch.device(\"cuda\")  # Edit -> Notebook Settings -> Hardware Accelerator = GPU\n",
        "else:\n",
        "  device = torch.device(\"cpu\")\n",
        "\n",
        "print(device)"
      ],
      "execution_count": 1,
      "outputs": [
        {
          "output_type": "stream",
          "text": [
            "cuda\n"
          ],
          "name": "stdout"
        }
      ]
    },
    {
      "cell_type": "code",
      "metadata": {
        "id": "ndUMXP_PzsyX",
        "colab_type": "code",
        "colab": {}
      },
      "source": [
        "# Get data\n",
        "BATCH_SZ = 16; NUM_FEATURES = 32; HIDDEN_STATES = 128\n",
        "# Note the device=cuda_device arguments here\n",
        "X = torch.randn(BATCH_SZ, NUM_FEATURES,  device=device)\n",
        "h = torch.randn(BATCH_SZ, HIDDEN_STATES, device=device)\n",
        "C = torch.randn(BATCH_SZ, HIDDEN_STATES, device=device)"
      ],
      "execution_count": null,
      "outputs": []
    }
  ]
}